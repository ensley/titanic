{
 "cells": [
  {
   "cell_type": "code",
   "id": "8efe856c-2da0-414a-9791-9ee069662ef1",
   "metadata": {
    "ExecuteTime": {
     "end_time": "2025-01-18T19:45:56.857339Z",
     "start_time": "2025-01-18T19:45:56.670132Z"
    }
   },
   "source": [
    "import re\n",
    "import warnings\n",
    "from string import punctuation\n",
    "\n",
    "import matplotlib.pyplot as plt\n",
    "import numpy as np\n",
    "import pandas as pd\n",
    "import seaborn as sns\n",
    "\n",
    "from sklearn.compose import ColumnTransformer\n",
    "from sklearn.ensemble import RandomForestClassifier\n",
    "from sklearn.pipeline import Pipeline\n",
    "from sklearn.preprocessing import OneHotEncoder, OrdinalEncoder, StandardScaler\n",
    "from sklearn.metrics import auc, roc_curve\n",
    "from sklearn.model_selection import StratifiedKFold\n",
    "\n",
    "warnings.filterwarnings(\"ignore\")"
   ],
   "outputs": [],
   "execution_count": 1
  },
  {
   "cell_type": "code",
   "id": "fa72de4e-8b70-4126-a7c9-63ee701bae2f",
   "metadata": {
    "ExecuteTime": {
     "end_time": "2025-01-18T19:45:56.878571Z",
     "start_time": "2025-01-18T19:45:56.867493Z"
    }
   },
   "source": [
    "train = pd.read_csv(\"../data/raw/train.csv\", index_col=\"PassengerId\")\n",
    "test = pd.read_csv(\"../data/raw/test.csv\", index_col=\"PassengerId\")\n",
    "data = pd.concat([train, test], keys=[\"train\", \"test\"])\n",
    "target = \"Survived\""
   ],
   "outputs": [],
   "execution_count": 2
  },
  {
   "cell_type": "code",
   "id": "9c5145db-afdb-4505-815e-ce2b31a9676a",
   "metadata": {
    "ExecuteTime": {
     "end_time": "2025-01-18T19:45:57.056636Z",
     "start_time": "2025-01-18T19:45:57.045243Z"
    }
   },
   "source": [
    "train"
   ],
   "outputs": [
    {
     "data": {
      "text/plain": [
       "             Survived  Pclass  \\\n",
       "PassengerId                     \n",
       "1                   0       3   \n",
       "2                   1       1   \n",
       "3                   1       3   \n",
       "4                   1       1   \n",
       "5                   0       3   \n",
       "...               ...     ...   \n",
       "887                 0       2   \n",
       "888                 1       1   \n",
       "889                 0       3   \n",
       "890                 1       1   \n",
       "891                 0       3   \n",
       "\n",
       "                                                          Name     Sex   Age  \\\n",
       "PassengerId                                                                    \n",
       "1                                      Braund, Mr. Owen Harris    male  22.0   \n",
       "2            Cumings, Mrs. John Bradley (Florence Briggs Th...  female  38.0   \n",
       "3                                       Heikkinen, Miss. Laina  female  26.0   \n",
       "4                 Futrelle, Mrs. Jacques Heath (Lily May Peel)  female  35.0   \n",
       "5                                     Allen, Mr. William Henry    male  35.0   \n",
       "...                                                        ...     ...   ...   \n",
       "887                                      Montvila, Rev. Juozas    male  27.0   \n",
       "888                               Graham, Miss. Margaret Edith  female  19.0   \n",
       "889                   Johnston, Miss. Catherine Helen \"Carrie\"  female   NaN   \n",
       "890                                      Behr, Mr. Karl Howell    male  26.0   \n",
       "891                                        Dooley, Mr. Patrick    male  32.0   \n",
       "\n",
       "             SibSp  Parch            Ticket     Fare Cabin Embarked  \n",
       "PassengerId                                                          \n",
       "1                1      0         A/5 21171   7.2500   NaN        S  \n",
       "2                1      0          PC 17599  71.2833   C85        C  \n",
       "3                0      0  STON/O2. 3101282   7.9250   NaN        S  \n",
       "4                1      0            113803  53.1000  C123        S  \n",
       "5                0      0            373450   8.0500   NaN        S  \n",
       "...            ...    ...               ...      ...   ...      ...  \n",
       "887              0      0            211536  13.0000   NaN        S  \n",
       "888              0      0            112053  30.0000   B42        S  \n",
       "889              1      2        W./C. 6607  23.4500   NaN        S  \n",
       "890              0      0            111369  30.0000  C148        C  \n",
       "891              0      0            370376   7.7500   NaN        Q  \n",
       "\n",
       "[891 rows x 11 columns]"
      ],
      "text/html": [
       "<div>\n",
       "<style scoped>\n",
       "    .dataframe tbody tr th:only-of-type {\n",
       "        vertical-align: middle;\n",
       "    }\n",
       "\n",
       "    .dataframe tbody tr th {\n",
       "        vertical-align: top;\n",
       "    }\n",
       "\n",
       "    .dataframe thead th {\n",
       "        text-align: right;\n",
       "    }\n",
       "</style>\n",
       "<table border=\"1\" class=\"dataframe\">\n",
       "  <thead>\n",
       "    <tr style=\"text-align: right;\">\n",
       "      <th></th>\n",
       "      <th>Survived</th>\n",
       "      <th>Pclass</th>\n",
       "      <th>Name</th>\n",
       "      <th>Sex</th>\n",
       "      <th>Age</th>\n",
       "      <th>SibSp</th>\n",
       "      <th>Parch</th>\n",
       "      <th>Ticket</th>\n",
       "      <th>Fare</th>\n",
       "      <th>Cabin</th>\n",
       "      <th>Embarked</th>\n",
       "    </tr>\n",
       "    <tr>\n",
       "      <th>PassengerId</th>\n",
       "      <th></th>\n",
       "      <th></th>\n",
       "      <th></th>\n",
       "      <th></th>\n",
       "      <th></th>\n",
       "      <th></th>\n",
       "      <th></th>\n",
       "      <th></th>\n",
       "      <th></th>\n",
       "      <th></th>\n",
       "      <th></th>\n",
       "    </tr>\n",
       "  </thead>\n",
       "  <tbody>\n",
       "    <tr>\n",
       "      <th>1</th>\n",
       "      <td>0</td>\n",
       "      <td>3</td>\n",
       "      <td>Braund, Mr. Owen Harris</td>\n",
       "      <td>male</td>\n",
       "      <td>22.0</td>\n",
       "      <td>1</td>\n",
       "      <td>0</td>\n",
       "      <td>A/5 21171</td>\n",
       "      <td>7.2500</td>\n",
       "      <td>NaN</td>\n",
       "      <td>S</td>\n",
       "    </tr>\n",
       "    <tr>\n",
       "      <th>2</th>\n",
       "      <td>1</td>\n",
       "      <td>1</td>\n",
       "      <td>Cumings, Mrs. John Bradley (Florence Briggs Th...</td>\n",
       "      <td>female</td>\n",
       "      <td>38.0</td>\n",
       "      <td>1</td>\n",
       "      <td>0</td>\n",
       "      <td>PC 17599</td>\n",
       "      <td>71.2833</td>\n",
       "      <td>C85</td>\n",
       "      <td>C</td>\n",
       "    </tr>\n",
       "    <tr>\n",
       "      <th>3</th>\n",
       "      <td>1</td>\n",
       "      <td>3</td>\n",
       "      <td>Heikkinen, Miss. Laina</td>\n",
       "      <td>female</td>\n",
       "      <td>26.0</td>\n",
       "      <td>0</td>\n",
       "      <td>0</td>\n",
       "      <td>STON/O2. 3101282</td>\n",
       "      <td>7.9250</td>\n",
       "      <td>NaN</td>\n",
       "      <td>S</td>\n",
       "    </tr>\n",
       "    <tr>\n",
       "      <th>4</th>\n",
       "      <td>1</td>\n",
       "      <td>1</td>\n",
       "      <td>Futrelle, Mrs. Jacques Heath (Lily May Peel)</td>\n",
       "      <td>female</td>\n",
       "      <td>35.0</td>\n",
       "      <td>1</td>\n",
       "      <td>0</td>\n",
       "      <td>113803</td>\n",
       "      <td>53.1000</td>\n",
       "      <td>C123</td>\n",
       "      <td>S</td>\n",
       "    </tr>\n",
       "    <tr>\n",
       "      <th>5</th>\n",
       "      <td>0</td>\n",
       "      <td>3</td>\n",
       "      <td>Allen, Mr. William Henry</td>\n",
       "      <td>male</td>\n",
       "      <td>35.0</td>\n",
       "      <td>0</td>\n",
       "      <td>0</td>\n",
       "      <td>373450</td>\n",
       "      <td>8.0500</td>\n",
       "      <td>NaN</td>\n",
       "      <td>S</td>\n",
       "    </tr>\n",
       "    <tr>\n",
       "      <th>...</th>\n",
       "      <td>...</td>\n",
       "      <td>...</td>\n",
       "      <td>...</td>\n",
       "      <td>...</td>\n",
       "      <td>...</td>\n",
       "      <td>...</td>\n",
       "      <td>...</td>\n",
       "      <td>...</td>\n",
       "      <td>...</td>\n",
       "      <td>...</td>\n",
       "      <td>...</td>\n",
       "    </tr>\n",
       "    <tr>\n",
       "      <th>887</th>\n",
       "      <td>0</td>\n",
       "      <td>2</td>\n",
       "      <td>Montvila, Rev. Juozas</td>\n",
       "      <td>male</td>\n",
       "      <td>27.0</td>\n",
       "      <td>0</td>\n",
       "      <td>0</td>\n",
       "      <td>211536</td>\n",
       "      <td>13.0000</td>\n",
       "      <td>NaN</td>\n",
       "      <td>S</td>\n",
       "    </tr>\n",
       "    <tr>\n",
       "      <th>888</th>\n",
       "      <td>1</td>\n",
       "      <td>1</td>\n",
       "      <td>Graham, Miss. Margaret Edith</td>\n",
       "      <td>female</td>\n",
       "      <td>19.0</td>\n",
       "      <td>0</td>\n",
       "      <td>0</td>\n",
       "      <td>112053</td>\n",
       "      <td>30.0000</td>\n",
       "      <td>B42</td>\n",
       "      <td>S</td>\n",
       "    </tr>\n",
       "    <tr>\n",
       "      <th>889</th>\n",
       "      <td>0</td>\n",
       "      <td>3</td>\n",
       "      <td>Johnston, Miss. Catherine Helen \"Carrie\"</td>\n",
       "      <td>female</td>\n",
       "      <td>NaN</td>\n",
       "      <td>1</td>\n",
       "      <td>2</td>\n",
       "      <td>W./C. 6607</td>\n",
       "      <td>23.4500</td>\n",
       "      <td>NaN</td>\n",
       "      <td>S</td>\n",
       "    </tr>\n",
       "    <tr>\n",
       "      <th>890</th>\n",
       "      <td>1</td>\n",
       "      <td>1</td>\n",
       "      <td>Behr, Mr. Karl Howell</td>\n",
       "      <td>male</td>\n",
       "      <td>26.0</td>\n",
       "      <td>0</td>\n",
       "      <td>0</td>\n",
       "      <td>111369</td>\n",
       "      <td>30.0000</td>\n",
       "      <td>C148</td>\n",
       "      <td>C</td>\n",
       "    </tr>\n",
       "    <tr>\n",
       "      <th>891</th>\n",
       "      <td>0</td>\n",
       "      <td>3</td>\n",
       "      <td>Dooley, Mr. Patrick</td>\n",
       "      <td>male</td>\n",
       "      <td>32.0</td>\n",
       "      <td>0</td>\n",
       "      <td>0</td>\n",
       "      <td>370376</td>\n",
       "      <td>7.7500</td>\n",
       "      <td>NaN</td>\n",
       "      <td>Q</td>\n",
       "    </tr>\n",
       "  </tbody>\n",
       "</table>\n",
       "<p>891 rows × 11 columns</p>\n",
       "</div>"
      ]
     },
     "execution_count": 3,
     "metadata": {},
     "output_type": "execute_result"
    }
   ],
   "execution_count": 3
  },
  {
   "cell_type": "code",
   "id": "7bd37879-447c-43d6-a867-5ee941d5eb2c",
   "metadata": {
    "ExecuteTime": {
     "end_time": "2025-01-18T19:45:57.124227Z",
     "start_time": "2025-01-18T19:45:57.114540Z"
    }
   },
   "source": [
    "test"
   ],
   "outputs": [
    {
     "data": {
      "text/plain": [
       "             Pclass                                          Name     Sex  \\\n",
       "PassengerId                                                                 \n",
       "892               3                              Kelly, Mr. James    male   \n",
       "893               3              Wilkes, Mrs. James (Ellen Needs)  female   \n",
       "894               2                     Myles, Mr. Thomas Francis    male   \n",
       "895               3                              Wirz, Mr. Albert    male   \n",
       "896               3  Hirvonen, Mrs. Alexander (Helga E Lindqvist)  female   \n",
       "...             ...                                           ...     ...   \n",
       "1305              3                            Spector, Mr. Woolf    male   \n",
       "1306              1                  Oliva y Ocana, Dona. Fermina  female   \n",
       "1307              3                  Saether, Mr. Simon Sivertsen    male   \n",
       "1308              3                           Ware, Mr. Frederick    male   \n",
       "1309              3                      Peter, Master. Michael J    male   \n",
       "\n",
       "              Age  SibSp  Parch              Ticket      Fare Cabin Embarked  \n",
       "PassengerId                                                                   \n",
       "892          34.5      0      0              330911    7.8292   NaN        Q  \n",
       "893          47.0      1      0              363272    7.0000   NaN        S  \n",
       "894          62.0      0      0              240276    9.6875   NaN        Q  \n",
       "895          27.0      0      0              315154    8.6625   NaN        S  \n",
       "896          22.0      1      1             3101298   12.2875   NaN        S  \n",
       "...           ...    ...    ...                 ...       ...   ...      ...  \n",
       "1305          NaN      0      0           A.5. 3236    8.0500   NaN        S  \n",
       "1306         39.0      0      0            PC 17758  108.9000  C105        C  \n",
       "1307         38.5      0      0  SOTON/O.Q. 3101262    7.2500   NaN        S  \n",
       "1308          NaN      0      0              359309    8.0500   NaN        S  \n",
       "1309          NaN      1      1                2668   22.3583   NaN        C  \n",
       "\n",
       "[418 rows x 10 columns]"
      ],
      "text/html": [
       "<div>\n",
       "<style scoped>\n",
       "    .dataframe tbody tr th:only-of-type {\n",
       "        vertical-align: middle;\n",
       "    }\n",
       "\n",
       "    .dataframe tbody tr th {\n",
       "        vertical-align: top;\n",
       "    }\n",
       "\n",
       "    .dataframe thead th {\n",
       "        text-align: right;\n",
       "    }\n",
       "</style>\n",
       "<table border=\"1\" class=\"dataframe\">\n",
       "  <thead>\n",
       "    <tr style=\"text-align: right;\">\n",
       "      <th></th>\n",
       "      <th>Pclass</th>\n",
       "      <th>Name</th>\n",
       "      <th>Sex</th>\n",
       "      <th>Age</th>\n",
       "      <th>SibSp</th>\n",
       "      <th>Parch</th>\n",
       "      <th>Ticket</th>\n",
       "      <th>Fare</th>\n",
       "      <th>Cabin</th>\n",
       "      <th>Embarked</th>\n",
       "    </tr>\n",
       "    <tr>\n",
       "      <th>PassengerId</th>\n",
       "      <th></th>\n",
       "      <th></th>\n",
       "      <th></th>\n",
       "      <th></th>\n",
       "      <th></th>\n",
       "      <th></th>\n",
       "      <th></th>\n",
       "      <th></th>\n",
       "      <th></th>\n",
       "      <th></th>\n",
       "    </tr>\n",
       "  </thead>\n",
       "  <tbody>\n",
       "    <tr>\n",
       "      <th>892</th>\n",
       "      <td>3</td>\n",
       "      <td>Kelly, Mr. James</td>\n",
       "      <td>male</td>\n",
       "      <td>34.5</td>\n",
       "      <td>0</td>\n",
       "      <td>0</td>\n",
       "      <td>330911</td>\n",
       "      <td>7.8292</td>\n",
       "      <td>NaN</td>\n",
       "      <td>Q</td>\n",
       "    </tr>\n",
       "    <tr>\n",
       "      <th>893</th>\n",
       "      <td>3</td>\n",
       "      <td>Wilkes, Mrs. James (Ellen Needs)</td>\n",
       "      <td>female</td>\n",
       "      <td>47.0</td>\n",
       "      <td>1</td>\n",
       "      <td>0</td>\n",
       "      <td>363272</td>\n",
       "      <td>7.0000</td>\n",
       "      <td>NaN</td>\n",
       "      <td>S</td>\n",
       "    </tr>\n",
       "    <tr>\n",
       "      <th>894</th>\n",
       "      <td>2</td>\n",
       "      <td>Myles, Mr. Thomas Francis</td>\n",
       "      <td>male</td>\n",
       "      <td>62.0</td>\n",
       "      <td>0</td>\n",
       "      <td>0</td>\n",
       "      <td>240276</td>\n",
       "      <td>9.6875</td>\n",
       "      <td>NaN</td>\n",
       "      <td>Q</td>\n",
       "    </tr>\n",
       "    <tr>\n",
       "      <th>895</th>\n",
       "      <td>3</td>\n",
       "      <td>Wirz, Mr. Albert</td>\n",
       "      <td>male</td>\n",
       "      <td>27.0</td>\n",
       "      <td>0</td>\n",
       "      <td>0</td>\n",
       "      <td>315154</td>\n",
       "      <td>8.6625</td>\n",
       "      <td>NaN</td>\n",
       "      <td>S</td>\n",
       "    </tr>\n",
       "    <tr>\n",
       "      <th>896</th>\n",
       "      <td>3</td>\n",
       "      <td>Hirvonen, Mrs. Alexander (Helga E Lindqvist)</td>\n",
       "      <td>female</td>\n",
       "      <td>22.0</td>\n",
       "      <td>1</td>\n",
       "      <td>1</td>\n",
       "      <td>3101298</td>\n",
       "      <td>12.2875</td>\n",
       "      <td>NaN</td>\n",
       "      <td>S</td>\n",
       "    </tr>\n",
       "    <tr>\n",
       "      <th>...</th>\n",
       "      <td>...</td>\n",
       "      <td>...</td>\n",
       "      <td>...</td>\n",
       "      <td>...</td>\n",
       "      <td>...</td>\n",
       "      <td>...</td>\n",
       "      <td>...</td>\n",
       "      <td>...</td>\n",
       "      <td>...</td>\n",
       "      <td>...</td>\n",
       "    </tr>\n",
       "    <tr>\n",
       "      <th>1305</th>\n",
       "      <td>3</td>\n",
       "      <td>Spector, Mr. Woolf</td>\n",
       "      <td>male</td>\n",
       "      <td>NaN</td>\n",
       "      <td>0</td>\n",
       "      <td>0</td>\n",
       "      <td>A.5. 3236</td>\n",
       "      <td>8.0500</td>\n",
       "      <td>NaN</td>\n",
       "      <td>S</td>\n",
       "    </tr>\n",
       "    <tr>\n",
       "      <th>1306</th>\n",
       "      <td>1</td>\n",
       "      <td>Oliva y Ocana, Dona. Fermina</td>\n",
       "      <td>female</td>\n",
       "      <td>39.0</td>\n",
       "      <td>0</td>\n",
       "      <td>0</td>\n",
       "      <td>PC 17758</td>\n",
       "      <td>108.9000</td>\n",
       "      <td>C105</td>\n",
       "      <td>C</td>\n",
       "    </tr>\n",
       "    <tr>\n",
       "      <th>1307</th>\n",
       "      <td>3</td>\n",
       "      <td>Saether, Mr. Simon Sivertsen</td>\n",
       "      <td>male</td>\n",
       "      <td>38.5</td>\n",
       "      <td>0</td>\n",
       "      <td>0</td>\n",
       "      <td>SOTON/O.Q. 3101262</td>\n",
       "      <td>7.2500</td>\n",
       "      <td>NaN</td>\n",
       "      <td>S</td>\n",
       "    </tr>\n",
       "    <tr>\n",
       "      <th>1308</th>\n",
       "      <td>3</td>\n",
       "      <td>Ware, Mr. Frederick</td>\n",
       "      <td>male</td>\n",
       "      <td>NaN</td>\n",
       "      <td>0</td>\n",
       "      <td>0</td>\n",
       "      <td>359309</td>\n",
       "      <td>8.0500</td>\n",
       "      <td>NaN</td>\n",
       "      <td>S</td>\n",
       "    </tr>\n",
       "    <tr>\n",
       "      <th>1309</th>\n",
       "      <td>3</td>\n",
       "      <td>Peter, Master. Michael J</td>\n",
       "      <td>male</td>\n",
       "      <td>NaN</td>\n",
       "      <td>1</td>\n",
       "      <td>1</td>\n",
       "      <td>2668</td>\n",
       "      <td>22.3583</td>\n",
       "      <td>NaN</td>\n",
       "      <td>C</td>\n",
       "    </tr>\n",
       "  </tbody>\n",
       "</table>\n",
       "<p>418 rows × 10 columns</p>\n",
       "</div>"
      ]
     },
     "execution_count": 4,
     "metadata": {},
     "output_type": "execute_result"
    }
   ],
   "execution_count": 4
  },
  {
   "cell_type": "code",
   "id": "67a8f3ef-4c25-4cfc-b6f2-c014b2e88d73",
   "metadata": {
    "ExecuteTime": {
     "end_time": "2025-01-18T19:45:57.182752Z",
     "start_time": "2025-01-18T19:45:57.172808Z"
    }
   },
   "source": [
    "data.loc[\"train\"].groupby([\"Sex\", \"Pclass\"])[\"Age\"].median().unstack()"
   ],
   "outputs": [
    {
     "data": {
      "text/plain": [
       "Pclass     1     2     3\n",
       "Sex                     \n",
       "female  35.0  28.0  21.5\n",
       "male    40.0  30.0  25.0"
      ],
      "text/html": [
       "<div>\n",
       "<style scoped>\n",
       "    .dataframe tbody tr th:only-of-type {\n",
       "        vertical-align: middle;\n",
       "    }\n",
       "\n",
       "    .dataframe tbody tr th {\n",
       "        vertical-align: top;\n",
       "    }\n",
       "\n",
       "    .dataframe thead th {\n",
       "        text-align: right;\n",
       "    }\n",
       "</style>\n",
       "<table border=\"1\" class=\"dataframe\">\n",
       "  <thead>\n",
       "    <tr style=\"text-align: right;\">\n",
       "      <th>Pclass</th>\n",
       "      <th>1</th>\n",
       "      <th>2</th>\n",
       "      <th>3</th>\n",
       "    </tr>\n",
       "    <tr>\n",
       "      <th>Sex</th>\n",
       "      <th></th>\n",
       "      <th></th>\n",
       "      <th></th>\n",
       "    </tr>\n",
       "  </thead>\n",
       "  <tbody>\n",
       "    <tr>\n",
       "      <th>female</th>\n",
       "      <td>35.0</td>\n",
       "      <td>28.0</td>\n",
       "      <td>21.5</td>\n",
       "    </tr>\n",
       "    <tr>\n",
       "      <th>male</th>\n",
       "      <td>40.0</td>\n",
       "      <td>30.0</td>\n",
       "      <td>25.0</td>\n",
       "    </tr>\n",
       "  </tbody>\n",
       "</table>\n",
       "</div>"
      ]
     },
     "execution_count": 5,
     "metadata": {},
     "output_type": "execute_result"
    }
   ],
   "execution_count": 5
  },
  {
   "cell_type": "code",
   "id": "929f403e-8239-4dff-93b7-f806e2ed0bab",
   "metadata": {
    "ExecuteTime": {
     "end_time": "2025-01-18T19:45:57.228672Z",
     "start_time": "2025-01-18T19:45:57.221024Z"
    }
   },
   "source": [
    "medians = data.loc[\"train\"].groupby([\"Sex\", \"Pclass\"])[\"Age\"].median()\n",
    "median_col = data.join(medians, on=[\"Sex\", \"Pclass\"], rsuffix=\"_med\")[\"Age_med\"]\n",
    "data[\"Age\"] = data[\"Age\"].combine_first(median_col)"
   ],
   "outputs": [],
   "execution_count": 6
  },
  {
   "cell_type": "code",
   "id": "b99e947b-e3d6-44e5-a4d5-fd36df321c00",
   "metadata": {
    "ExecuteTime": {
     "end_time": "2025-01-18T19:45:57.273241Z",
     "start_time": "2025-01-18T19:45:57.269269Z"
    }
   },
   "source": [
    "data[\"Embarked\"] = data[\"Embarked\"].fillna(data[\"Embarked\"].value_counts().idxmax())"
   ],
   "outputs": [],
   "execution_count": 7
  },
  {
   "cell_type": "code",
   "id": "3190daa2-8751-4ad6-a027-5bb6d36c7708",
   "metadata": {
    "ExecuteTime": {
     "end_time": "2025-01-18T19:45:57.325648Z",
     "start_time": "2025-01-18T19:45:57.318976Z"
    }
   },
   "source": [
    "medians = data.groupby([\"Pclass\", \"Parch\", \"SibSp\"])[\"Fare\"].median()\n",
    "median_col = data.join(medians, on=[\"Pclass\", \"Parch\", \"SibSp\"], rsuffix=\"_med\")[\"Fare_med\"]\n",
    "data[\"Fare\"] = data[\"Fare\"].combine_first(median_col)"
   ],
   "outputs": [],
   "execution_count": 8
  },
  {
   "cell_type": "code",
   "id": "8cab3be5-602d-412b-af04-e5027659f6c3",
   "metadata": {
    "ExecuteTime": {
     "end_time": "2025-01-18T19:45:57.372674Z",
     "start_time": "2025-01-18T19:45:57.368837Z"
    }
   },
   "source": [
    "data[\"Deck\"] = data[\"Cabin\"].apply(lambda s: s[0] if pd.notnull(s) else \"M\")"
   ],
   "outputs": [],
   "execution_count": 9
  },
  {
   "cell_type": "code",
   "id": "4d0b68a2-722e-4903-9c1c-6b86f394d5ec",
   "metadata": {
    "ExecuteTime": {
     "end_time": "2025-01-18T19:45:57.423688Z",
     "start_time": "2025-01-18T19:45:57.418867Z"
    }
   },
   "source": [
    "data[\"Deck\"] = (\n",
    "    data[\"Deck\"]\n",
    "        .replace([\"A\", \"B\", \"C\", \"T\"], \"ABC\")\n",
    "        .replace([\"D\", \"E\"], \"DE\")\n",
    "        .replace([\"F\", \"G\"], \"FG\")\n",
    ")"
   ],
   "outputs": [],
   "execution_count": 10
  },
  {
   "cell_type": "code",
   "id": "b6abafd5-90a5-48b3-8062-2a2939962047",
   "metadata": {
    "ExecuteTime": {
     "end_time": "2025-01-18T19:45:57.472350Z",
     "start_time": "2025-01-18T19:45:57.469026Z"
    }
   },
   "source": [
    "data = data.drop(columns=[\"Cabin\"])"
   ],
   "outputs": [],
   "execution_count": 11
  },
  {
   "cell_type": "code",
   "id": "d296b627-9caa-450f-94c0-ed41e87bb494",
   "metadata": {
    "ExecuteTime": {
     "end_time": "2025-01-18T19:45:57.523773Z",
     "start_time": "2025-01-18T19:45:57.518700Z"
    }
   },
   "source": [
    "data.isnull().sum()"
   ],
   "outputs": [
    {
     "data": {
      "text/plain": [
       "Survived    418\n",
       "Pclass        0\n",
       "Name          0\n",
       "Sex           0\n",
       "Age           0\n",
       "SibSp         0\n",
       "Parch         0\n",
       "Ticket        0\n",
       "Fare          0\n",
       "Embarked      0\n",
       "Deck          0\n",
       "dtype: int64"
      ]
     },
     "execution_count": 12,
     "metadata": {},
     "output_type": "execute_result"
    }
   ],
   "execution_count": 12
  },
  {
   "cell_type": "code",
   "id": "bf4e1ad7-46ee-4d52-a446-50f56f653d9a",
   "metadata": {
    "ExecuteTime": {
     "end_time": "2025-01-18T19:45:57.575337Z",
     "start_time": "2025-01-18T19:45:57.569833Z"
    }
   },
   "source": [
    "data[\"Fare\"] = pd.qcut(data[\"Fare\"], 13)"
   ],
   "outputs": [],
   "execution_count": 13
  },
  {
   "cell_type": "code",
   "id": "06c08f43-029f-454a-af27-abc167d980f2",
   "metadata": {
    "ExecuteTime": {
     "end_time": "2025-01-18T19:45:57.623874Z",
     "start_time": "2025-01-18T19:45:57.618832Z"
    }
   },
   "source": [
    "data[\"Age\"] = pd.qcut(data[\"Age\"], 10)"
   ],
   "outputs": [],
   "execution_count": 14
  },
  {
   "cell_type": "code",
   "id": "2fa497d9-7446-4965-8128-26b6deb7c4b9",
   "metadata": {
    "ExecuteTime": {
     "end_time": "2025-01-18T19:45:57.682118Z",
     "start_time": "2025-01-18T19:45:57.678771Z"
    }
   },
   "source": [
    "data[\"FamilySize\"] = data[\"SibSp\"] + data[\"Parch\"] + 1"
   ],
   "outputs": [],
   "execution_count": 15
  },
  {
   "cell_type": "code",
   "id": "5e0c2955-e8f8-48a1-9a51-c1b02a8c47c3",
   "metadata": {
    "ExecuteTime": {
     "end_time": "2025-01-18T19:45:57.734961Z",
     "start_time": "2025-01-18T19:45:57.728831Z"
    }
   },
   "source": [
    "data[\"FamilySizeGroup\"] = data[\"FamilySize\"].case_when(\n",
    "    [\n",
    "        (data[\"FamilySize\"].eq(1), \"Alone\"),\n",
    "        (data[\"FamilySize\"].le(4), \"Small\"),\n",
    "        (data[\"FamilySize\"].le(6), \"Medium\"),\n",
    "        (data[\"FamilySize\"].gt(6), \"Large\"),\n",
    "    ]\n",
    ")"
   ],
   "outputs": [],
   "execution_count": 16
  },
  {
   "cell_type": "code",
   "id": "9d75dae9-f698-4bf3-8cb5-56b228259126",
   "metadata": {
    "ExecuteTime": {
     "end_time": "2025-01-18T19:45:57.783102Z",
     "start_time": "2025-01-18T19:45:57.778845Z"
    }
   },
   "source": [
    "data[\"TicketFrequency\"] = data.groupby(\"Ticket\")[\"Ticket\"].transform(\"count\")"
   ],
   "outputs": [],
   "execution_count": 17
  },
  {
   "cell_type": "code",
   "id": "0b6b74f2-b5d5-46e3-b8fc-167d44d8bef2",
   "metadata": {
    "ExecuteTime": {
     "end_time": "2025-01-18T19:45:57.837346Z",
     "start_time": "2025-01-18T19:45:57.828597Z"
    }
   },
   "source": [
    "data[\"Title\"] = data[\"Name\"].str.split(\", \", expand=True)[1].str.split(\".\", expand=True)[0]\n",
    "data[\"IsMarried\"] = data[\"Title\"].eq(\"Mrs\").astype(int)\n",
    "data[\"Title\"] = data[\"Title\"].replace([\"Miss\", \"Mrs\", \"Ms\", \"Mlle\", \"Lady\", \"Mme\", \"the Countess\", \"Dona\"], \"Mrs/Ms/Miss\")\n",
    "data[\"Title\"] = data[\"Title\"].replace([\"Dr\", \"Col\", \"Major\", \"Jonkheer\", \"Capt\", \"Sir\", \"Don\", \"Rev\"], \"Dr/Military/Noble/Clergy\")"
   ],
   "outputs": [],
   "execution_count": 18
  },
  {
   "cell_type": "code",
   "id": "cceb8587-008c-4b08-a8ec-642c27c48d23",
   "metadata": {
    "ExecuteTime": {
     "end_time": "2025-01-18T19:45:57.883319Z",
     "start_time": "2025-01-18T19:45:57.878660Z"
    }
   },
   "source": [
    "names = data[\"Name\"].str.split(\",\", expand=True)[0]\n",
    "data[\"Family\"] = names.str.replace(f\"[{re.escape(punctuation)}]\", \"\", regex=True)"
   ],
   "outputs": [],
   "execution_count": 19
  },
  {
   "cell_type": "code",
   "id": "64837f2d-1d9f-46ae-92cd-b78de874c2ab",
   "metadata": {
    "ExecuteTime": {
     "end_time": "2025-01-18T19:45:58.263264Z",
     "start_time": "2025-01-18T19:45:57.928655Z"
    }
   },
   "source": [
    "non_unique_families = pd.Series([x for x in data.loc[\"train\", \"Family\"].unique() if x in data.loc[\"test\", \"Family\"].unique()], name=\"Family\")\n",
    "non_unique_tickets = pd.Series([x for x in data.loc[\"train\", \"Ticket\"].unique() if x in data.loc[\"test\", \"Ticket\"].unique()], name=\"Ticket\")"
   ],
   "outputs": [],
   "execution_count": 20
  },
  {
   "cell_type": "code",
   "id": "7b074d03-1405-4a27-9a8b-c52c49a0418f",
   "metadata": {
    "ExecuteTime": {
     "end_time": "2025-01-18T19:45:58.272351Z",
     "start_time": "2025-01-18T19:45:58.266296Z"
    }
   },
   "source": [
    "family_survival_rates = data.loc[\"train\"].groupby(\"Family\")[[\"FamilySize\", \"Survived\"]].mean()\n",
    "ticket_survival_rates = data.loc[\"train\"].groupby(\"Ticket\")[[\"TicketFrequency\", \"Survived\"]].mean()"
   ],
   "outputs": [],
   "execution_count": 21
  },
  {
   "cell_type": "code",
   "id": "f9ec1d1a-1679-40fb-8612-2673a8a44f4f",
   "metadata": {
    "ExecuteTime": {
     "end_time": "2025-01-18T19:45:58.323745Z",
     "start_time": "2025-01-18T19:45:58.318872Z"
    }
   },
   "source": [
    "family_rates = family_survival_rates.loc[family_survival_rates[\"FamilySize\"] > 1, \"Survived\"].filter(non_unique_families, axis=\"index\")\n",
    "ticket_rates = ticket_survival_rates.loc[ticket_survival_rates[\"TicketFrequency\"] > 1, \"Survived\"].filter(non_unique_tickets, axis=\"index\")"
   ],
   "outputs": [],
   "execution_count": 22
  },
  {
   "cell_type": "code",
   "id": "7c8b42a5-322f-485c-be33-5feaac16f739",
   "metadata": {
    "ExecuteTime": {
     "end_time": "2025-01-18T19:45:58.375200Z",
     "start_time": "2025-01-18T19:45:58.368745Z"
    }
   },
   "source": [
    "data = data.join(family_rates.rename(\"FamilySurvivalRate\"), on=\"Family\")\n",
    "data = data.join(ticket_rates.rename(\"TicketSurvivalRate\"), on=\"Ticket\")"
   ],
   "outputs": [],
   "execution_count": 23
  },
  {
   "cell_type": "code",
   "id": "19b4d91e-0ead-48c0-9a0c-bdb9bf01f90f",
   "metadata": {
    "ExecuteTime": {
     "end_time": "2025-01-18T19:45:58.423222Z",
     "start_time": "2025-01-18T19:45:58.418571Z"
    }
   },
   "source": [
    "data[\"FamilySurvivalRate\"] = data[\"FamilySurvivalRate\"].fillna(data.loc[\"train\", \"Survived\"].mean())\n",
    "data[\"TicketSurvivalRate\"] = data[\"TicketSurvivalRate\"].fillna(data.loc[\"train\", \"Survived\"].mean())"
   ],
   "outputs": [],
   "execution_count": 24
  },
  {
   "cell_type": "code",
   "id": "d0b61d37-703d-4d1b-bf81-da1f649ece32",
   "metadata": {
    "ExecuteTime": {
     "end_time": "2025-01-18T19:45:58.472306Z",
     "start_time": "2025-01-18T19:45:58.468563Z"
    }
   },
   "source": [
    "data[\"FamilySurvivalRateNA\"] = data[\"Family\"].isin(family_rates.index).astype(int)\n",
    "data[\"TicketSurvivalRateNA\"] = data[\"Ticket\"].isin(ticket_rates.index).astype(int)"
   ],
   "outputs": [],
   "execution_count": 25
  },
  {
   "cell_type": "code",
   "id": "4703fd56-1326-4546-aedc-5d567e792ef4",
   "metadata": {
    "ExecuteTime": {
     "end_time": "2025-01-18T19:45:58.522472Z",
     "start_time": "2025-01-18T19:45:58.518557Z"
    }
   },
   "source": [
    "data[\"SurvivalRate\"] = (data[\"FamilySurvivalRate\"] + data[\"TicketSurvivalRate\"]) / 2\n",
    "data[\"SurvivalRateNA\"] = (data[\"FamilySurvivalRateNA\"] + data[\"TicketSurvivalRateNA\"]) / 2"
   ],
   "outputs": [],
   "execution_count": 26
  },
  {
   "cell_type": "code",
   "id": "56490ceb-b538-4bf3-ab84-0f1ef7c22f8c",
   "metadata": {
    "ExecuteTime": {
     "end_time": "2025-01-18T19:45:58.596114Z",
     "start_time": "2025-01-18T19:45:58.578901Z"
    }
   },
   "source": [
    "data"
   ],
   "outputs": [
    {
     "data": {
      "text/plain": [
       "                   Survived  Pclass  \\\n",
       "      PassengerId                     \n",
       "train 1                 0.0       3   \n",
       "      2                 1.0       1   \n",
       "      3                 1.0       3   \n",
       "      4                 1.0       1   \n",
       "      5                 0.0       3   \n",
       "...                     ...     ...   \n",
       "test  1305              NaN       3   \n",
       "      1306              NaN       1   \n",
       "      1307              NaN       3   \n",
       "      1308              NaN       3   \n",
       "      1309              NaN       3   \n",
       "\n",
       "                                                                Name     Sex  \\\n",
       "      PassengerId                                                              \n",
       "train 1                                      Braund, Mr. Owen Harris    male   \n",
       "      2            Cumings, Mrs. John Bradley (Florence Briggs Th...  female   \n",
       "      3                                       Heikkinen, Miss. Laina  female   \n",
       "      4                 Futrelle, Mrs. Jacques Heath (Lily May Peel)  female   \n",
       "      5                                     Allen, Mr. William Henry    male   \n",
       "...                                                              ...     ...   \n",
       "test  1305                                        Spector, Mr. Woolf    male   \n",
       "      1306                              Oliva y Ocana, Dona. Fermina  female   \n",
       "      1307                              Saether, Mr. Simon Sivertsen    male   \n",
       "      1308                                       Ware, Mr. Frederick    male   \n",
       "      1309                                  Peter, Master. Michael J    male   \n",
       "\n",
       "                            Age  SibSp  Parch              Ticket  \\\n",
       "      PassengerId                                                   \n",
       "train 1            (21.0, 22.0]      1      0           A/5 21171   \n",
       "      2            (34.0, 40.0]      1      0            PC 17599   \n",
       "      3            (25.0, 26.0]      0      0    STON/O2. 3101282   \n",
       "      4            (34.0, 40.0]      1      0              113803   \n",
       "      5            (34.0, 40.0]      0      0              373450   \n",
       "...                         ...    ...    ...                 ...   \n",
       "test  1305         (22.0, 25.0]      0      0           A.5. 3236   \n",
       "      1306         (34.0, 40.0]      0      0            PC 17758   \n",
       "      1307         (34.0, 40.0]      0      0  SOTON/O.Q. 3101262   \n",
       "      1308         (22.0, 25.0]      0      0              359309   \n",
       "      1309         (22.0, 25.0]      1      1                2668   \n",
       "\n",
       "                                Fare Embarked  ... TicketFrequency  \\\n",
       "      PassengerId                              ...                   \n",
       "train 1               (-0.001, 7.25]        S  ...               1   \n",
       "      2             (56.496, 83.475]        C  ...               2   \n",
       "      3                (7.896, 8.05]        S  ...               1   \n",
       "      4             (34.075, 56.496]        S  ...               2   \n",
       "      5                (7.896, 8.05]        S  ...               1   \n",
       "...                              ...      ...  ...             ...   \n",
       "test  1305             (7.896, 8.05]        S  ...               1   \n",
       "      1306         (83.475, 512.329]        C  ...               3   \n",
       "      1307            (-0.001, 7.25]        S  ...               1   \n",
       "      1308             (7.896, 8.05]        S  ...               1   \n",
       "      1309           (15.742, 23.25]        C  ...               3   \n",
       "\n",
       "                         Title IsMarried         Family FamilySurvivalRate  \\\n",
       "      PassengerId                                                            \n",
       "train 1                     Mr         0         Braund           0.383838   \n",
       "      2            Mrs/Ms/Miss         1        Cumings           1.000000   \n",
       "      3            Mrs/Ms/Miss         0      Heikkinen           0.383838   \n",
       "      4            Mrs/Ms/Miss         1       Futrelle           0.383838   \n",
       "      5                     Mr         0          Allen           0.383838   \n",
       "...                        ...       ...            ...                ...   \n",
       "test  1305                  Mr         0        Spector           0.383838   \n",
       "      1306         Mrs/Ms/Miss         0  Oliva y Ocana           0.383838   \n",
       "      1307                  Mr         0        Saether           0.383838   \n",
       "      1308                  Mr         0           Ware           0.383838   \n",
       "      1309              Master         0          Peter           1.000000   \n",
       "\n",
       "                   TicketSurvivalRate FamilySurvivalRateNA  \\\n",
       "      PassengerId                                            \n",
       "train 1                      0.383838                    0   \n",
       "      2                      1.000000                    1   \n",
       "      3                      0.383838                    0   \n",
       "      4                      0.383838                    0   \n",
       "      5                      0.383838                    0   \n",
       "...                               ...                  ...   \n",
       "test  1305                   0.383838                    0   \n",
       "      1306                   0.500000                    0   \n",
       "      1307                   0.383838                    0   \n",
       "      1308                   0.383838                    0   \n",
       "      1309                   1.000000                    1   \n",
       "\n",
       "                   TicketSurvivalRateNA  SurvivalRate  SurvivalRateNA  \n",
       "      PassengerId                                                      \n",
       "train 1                               0      0.383838             0.0  \n",
       "      2                               1      1.000000             1.0  \n",
       "      3                               0      0.383838             0.0  \n",
       "      4                               0      0.383838             0.0  \n",
       "      5                               0      0.383838             0.0  \n",
       "...                                 ...           ...             ...  \n",
       "test  1305                            0      0.383838             0.0  \n",
       "      1306                            1      0.441919             0.5  \n",
       "      1307                            0      0.383838             0.0  \n",
       "      1308                            0      0.383838             0.0  \n",
       "      1309                            1      1.000000             1.0  \n",
       "\n",
       "[1309 rows x 23 columns]"
      ],
      "text/html": [
       "<div>\n",
       "<style scoped>\n",
       "    .dataframe tbody tr th:only-of-type {\n",
       "        vertical-align: middle;\n",
       "    }\n",
       "\n",
       "    .dataframe tbody tr th {\n",
       "        vertical-align: top;\n",
       "    }\n",
       "\n",
       "    .dataframe thead th {\n",
       "        text-align: right;\n",
       "    }\n",
       "</style>\n",
       "<table border=\"1\" class=\"dataframe\">\n",
       "  <thead>\n",
       "    <tr style=\"text-align: right;\">\n",
       "      <th></th>\n",
       "      <th></th>\n",
       "      <th>Survived</th>\n",
       "      <th>Pclass</th>\n",
       "      <th>Name</th>\n",
       "      <th>Sex</th>\n",
       "      <th>Age</th>\n",
       "      <th>SibSp</th>\n",
       "      <th>Parch</th>\n",
       "      <th>Ticket</th>\n",
       "      <th>Fare</th>\n",
       "      <th>Embarked</th>\n",
       "      <th>...</th>\n",
       "      <th>TicketFrequency</th>\n",
       "      <th>Title</th>\n",
       "      <th>IsMarried</th>\n",
       "      <th>Family</th>\n",
       "      <th>FamilySurvivalRate</th>\n",
       "      <th>TicketSurvivalRate</th>\n",
       "      <th>FamilySurvivalRateNA</th>\n",
       "      <th>TicketSurvivalRateNA</th>\n",
       "      <th>SurvivalRate</th>\n",
       "      <th>SurvivalRateNA</th>\n",
       "    </tr>\n",
       "    <tr>\n",
       "      <th></th>\n",
       "      <th>PassengerId</th>\n",
       "      <th></th>\n",
       "      <th></th>\n",
       "      <th></th>\n",
       "      <th></th>\n",
       "      <th></th>\n",
       "      <th></th>\n",
       "      <th></th>\n",
       "      <th></th>\n",
       "      <th></th>\n",
       "      <th></th>\n",
       "      <th></th>\n",
       "      <th></th>\n",
       "      <th></th>\n",
       "      <th></th>\n",
       "      <th></th>\n",
       "      <th></th>\n",
       "      <th></th>\n",
       "      <th></th>\n",
       "      <th></th>\n",
       "      <th></th>\n",
       "      <th></th>\n",
       "    </tr>\n",
       "  </thead>\n",
       "  <tbody>\n",
       "    <tr>\n",
       "      <th rowspan=\"5\" valign=\"top\">train</th>\n",
       "      <th>1</th>\n",
       "      <td>0.0</td>\n",
       "      <td>3</td>\n",
       "      <td>Braund, Mr. Owen Harris</td>\n",
       "      <td>male</td>\n",
       "      <td>(21.0, 22.0]</td>\n",
       "      <td>1</td>\n",
       "      <td>0</td>\n",
       "      <td>A/5 21171</td>\n",
       "      <td>(-0.001, 7.25]</td>\n",
       "      <td>S</td>\n",
       "      <td>...</td>\n",
       "      <td>1</td>\n",
       "      <td>Mr</td>\n",
       "      <td>0</td>\n",
       "      <td>Braund</td>\n",
       "      <td>0.383838</td>\n",
       "      <td>0.383838</td>\n",
       "      <td>0</td>\n",
       "      <td>0</td>\n",
       "      <td>0.383838</td>\n",
       "      <td>0.0</td>\n",
       "    </tr>\n",
       "    <tr>\n",
       "      <th>2</th>\n",
       "      <td>1.0</td>\n",
       "      <td>1</td>\n",
       "      <td>Cumings, Mrs. John Bradley (Florence Briggs Th...</td>\n",
       "      <td>female</td>\n",
       "      <td>(34.0, 40.0]</td>\n",
       "      <td>1</td>\n",
       "      <td>0</td>\n",
       "      <td>PC 17599</td>\n",
       "      <td>(56.496, 83.475]</td>\n",
       "      <td>C</td>\n",
       "      <td>...</td>\n",
       "      <td>2</td>\n",
       "      <td>Mrs/Ms/Miss</td>\n",
       "      <td>1</td>\n",
       "      <td>Cumings</td>\n",
       "      <td>1.000000</td>\n",
       "      <td>1.000000</td>\n",
       "      <td>1</td>\n",
       "      <td>1</td>\n",
       "      <td>1.000000</td>\n",
       "      <td>1.0</td>\n",
       "    </tr>\n",
       "    <tr>\n",
       "      <th>3</th>\n",
       "      <td>1.0</td>\n",
       "      <td>3</td>\n",
       "      <td>Heikkinen, Miss. Laina</td>\n",
       "      <td>female</td>\n",
       "      <td>(25.0, 26.0]</td>\n",
       "      <td>0</td>\n",
       "      <td>0</td>\n",
       "      <td>STON/O2. 3101282</td>\n",
       "      <td>(7.896, 8.05]</td>\n",
       "      <td>S</td>\n",
       "      <td>...</td>\n",
       "      <td>1</td>\n",
       "      <td>Mrs/Ms/Miss</td>\n",
       "      <td>0</td>\n",
       "      <td>Heikkinen</td>\n",
       "      <td>0.383838</td>\n",
       "      <td>0.383838</td>\n",
       "      <td>0</td>\n",
       "      <td>0</td>\n",
       "      <td>0.383838</td>\n",
       "      <td>0.0</td>\n",
       "    </tr>\n",
       "    <tr>\n",
       "      <th>4</th>\n",
       "      <td>1.0</td>\n",
       "      <td>1</td>\n",
       "      <td>Futrelle, Mrs. Jacques Heath (Lily May Peel)</td>\n",
       "      <td>female</td>\n",
       "      <td>(34.0, 40.0]</td>\n",
       "      <td>1</td>\n",
       "      <td>0</td>\n",
       "      <td>113803</td>\n",
       "      <td>(34.075, 56.496]</td>\n",
       "      <td>S</td>\n",
       "      <td>...</td>\n",
       "      <td>2</td>\n",
       "      <td>Mrs/Ms/Miss</td>\n",
       "      <td>1</td>\n",
       "      <td>Futrelle</td>\n",
       "      <td>0.383838</td>\n",
       "      <td>0.383838</td>\n",
       "      <td>0</td>\n",
       "      <td>0</td>\n",
       "      <td>0.383838</td>\n",
       "      <td>0.0</td>\n",
       "    </tr>\n",
       "    <tr>\n",
       "      <th>5</th>\n",
       "      <td>0.0</td>\n",
       "      <td>3</td>\n",
       "      <td>Allen, Mr. William Henry</td>\n",
       "      <td>male</td>\n",
       "      <td>(34.0, 40.0]</td>\n",
       "      <td>0</td>\n",
       "      <td>0</td>\n",
       "      <td>373450</td>\n",
       "      <td>(7.896, 8.05]</td>\n",
       "      <td>S</td>\n",
       "      <td>...</td>\n",
       "      <td>1</td>\n",
       "      <td>Mr</td>\n",
       "      <td>0</td>\n",
       "      <td>Allen</td>\n",
       "      <td>0.383838</td>\n",
       "      <td>0.383838</td>\n",
       "      <td>0</td>\n",
       "      <td>0</td>\n",
       "      <td>0.383838</td>\n",
       "      <td>0.0</td>\n",
       "    </tr>\n",
       "    <tr>\n",
       "      <th>...</th>\n",
       "      <th>...</th>\n",
       "      <td>...</td>\n",
       "      <td>...</td>\n",
       "      <td>...</td>\n",
       "      <td>...</td>\n",
       "      <td>...</td>\n",
       "      <td>...</td>\n",
       "      <td>...</td>\n",
       "      <td>...</td>\n",
       "      <td>...</td>\n",
       "      <td>...</td>\n",
       "      <td>...</td>\n",
       "      <td>...</td>\n",
       "      <td>...</td>\n",
       "      <td>...</td>\n",
       "      <td>...</td>\n",
       "      <td>...</td>\n",
       "      <td>...</td>\n",
       "      <td>...</td>\n",
       "      <td>...</td>\n",
       "      <td>...</td>\n",
       "      <td>...</td>\n",
       "    </tr>\n",
       "    <tr>\n",
       "      <th rowspan=\"5\" valign=\"top\">test</th>\n",
       "      <th>1305</th>\n",
       "      <td>NaN</td>\n",
       "      <td>3</td>\n",
       "      <td>Spector, Mr. Woolf</td>\n",
       "      <td>male</td>\n",
       "      <td>(22.0, 25.0]</td>\n",
       "      <td>0</td>\n",
       "      <td>0</td>\n",
       "      <td>A.5. 3236</td>\n",
       "      <td>(7.896, 8.05]</td>\n",
       "      <td>S</td>\n",
       "      <td>...</td>\n",
       "      <td>1</td>\n",
       "      <td>Mr</td>\n",
       "      <td>0</td>\n",
       "      <td>Spector</td>\n",
       "      <td>0.383838</td>\n",
       "      <td>0.383838</td>\n",
       "      <td>0</td>\n",
       "      <td>0</td>\n",
       "      <td>0.383838</td>\n",
       "      <td>0.0</td>\n",
       "    </tr>\n",
       "    <tr>\n",
       "      <th>1306</th>\n",
       "      <td>NaN</td>\n",
       "      <td>1</td>\n",
       "      <td>Oliva y Ocana, Dona. Fermina</td>\n",
       "      <td>female</td>\n",
       "      <td>(34.0, 40.0]</td>\n",
       "      <td>0</td>\n",
       "      <td>0</td>\n",
       "      <td>PC 17758</td>\n",
       "      <td>(83.475, 512.329]</td>\n",
       "      <td>C</td>\n",
       "      <td>...</td>\n",
       "      <td>3</td>\n",
       "      <td>Mrs/Ms/Miss</td>\n",
       "      <td>0</td>\n",
       "      <td>Oliva y Ocana</td>\n",
       "      <td>0.383838</td>\n",
       "      <td>0.500000</td>\n",
       "      <td>0</td>\n",
       "      <td>1</td>\n",
       "      <td>0.441919</td>\n",
       "      <td>0.5</td>\n",
       "    </tr>\n",
       "    <tr>\n",
       "      <th>1307</th>\n",
       "      <td>NaN</td>\n",
       "      <td>3</td>\n",
       "      <td>Saether, Mr. Simon Sivertsen</td>\n",
       "      <td>male</td>\n",
       "      <td>(34.0, 40.0]</td>\n",
       "      <td>0</td>\n",
       "      <td>0</td>\n",
       "      <td>SOTON/O.Q. 3101262</td>\n",
       "      <td>(-0.001, 7.25]</td>\n",
       "      <td>S</td>\n",
       "      <td>...</td>\n",
       "      <td>1</td>\n",
       "      <td>Mr</td>\n",
       "      <td>0</td>\n",
       "      <td>Saether</td>\n",
       "      <td>0.383838</td>\n",
       "      <td>0.383838</td>\n",
       "      <td>0</td>\n",
       "      <td>0</td>\n",
       "      <td>0.383838</td>\n",
       "      <td>0.0</td>\n",
       "    </tr>\n",
       "    <tr>\n",
       "      <th>1308</th>\n",
       "      <td>NaN</td>\n",
       "      <td>3</td>\n",
       "      <td>Ware, Mr. Frederick</td>\n",
       "      <td>male</td>\n",
       "      <td>(22.0, 25.0]</td>\n",
       "      <td>0</td>\n",
       "      <td>0</td>\n",
       "      <td>359309</td>\n",
       "      <td>(7.896, 8.05]</td>\n",
       "      <td>S</td>\n",
       "      <td>...</td>\n",
       "      <td>1</td>\n",
       "      <td>Mr</td>\n",
       "      <td>0</td>\n",
       "      <td>Ware</td>\n",
       "      <td>0.383838</td>\n",
       "      <td>0.383838</td>\n",
       "      <td>0</td>\n",
       "      <td>0</td>\n",
       "      <td>0.383838</td>\n",
       "      <td>0.0</td>\n",
       "    </tr>\n",
       "    <tr>\n",
       "      <th>1309</th>\n",
       "      <td>NaN</td>\n",
       "      <td>3</td>\n",
       "      <td>Peter, Master. Michael J</td>\n",
       "      <td>male</td>\n",
       "      <td>(22.0, 25.0]</td>\n",
       "      <td>1</td>\n",
       "      <td>1</td>\n",
       "      <td>2668</td>\n",
       "      <td>(15.742, 23.25]</td>\n",
       "      <td>C</td>\n",
       "      <td>...</td>\n",
       "      <td>3</td>\n",
       "      <td>Master</td>\n",
       "      <td>0</td>\n",
       "      <td>Peter</td>\n",
       "      <td>1.000000</td>\n",
       "      <td>1.000000</td>\n",
       "      <td>1</td>\n",
       "      <td>1</td>\n",
       "      <td>1.000000</td>\n",
       "      <td>1.0</td>\n",
       "    </tr>\n",
       "  </tbody>\n",
       "</table>\n",
       "<p>1309 rows × 23 columns</p>\n",
       "</div>"
      ]
     },
     "execution_count": 27,
     "metadata": {},
     "output_type": "execute_result"
    }
   ],
   "execution_count": 27
  },
  {
   "cell_type": "code",
   "id": "da6e6f19-4acd-4925-8e64-d1bc04c92a0b",
   "metadata": {
    "ExecuteTime": {
     "end_time": "2025-01-18T19:45:58.646849Z",
     "start_time": "2025-01-18T19:45:58.643172Z"
    }
   },
   "source": [
    "data.columns"
   ],
   "outputs": [
    {
     "data": {
      "text/plain": [
       "Index(['Survived', 'Pclass', 'Name', 'Sex', 'Age', 'SibSp', 'Parch', 'Ticket',\n",
       "       'Fare', 'Embarked', 'Deck', 'FamilySize', 'FamilySizeGroup',\n",
       "       'TicketFrequency', 'Title', 'IsMarried', 'Family', 'FamilySurvivalRate',\n",
       "       'TicketSurvivalRate', 'FamilySurvivalRateNA', 'TicketSurvivalRateNA',\n",
       "       'SurvivalRate', 'SurvivalRateNA'],\n",
       "      dtype='object')"
      ]
     },
     "execution_count": 28,
     "metadata": {},
     "output_type": "execute_result"
    }
   ],
   "execution_count": 28
  },
  {
   "cell_type": "code",
   "id": "2ef7a35b-c48f-489a-8957-0e5ce4ce6db7",
   "metadata": {
    "ExecuteTime": {
     "end_time": "2025-01-18T19:45:58.692644Z",
     "start_time": "2025-01-18T19:45:58.689288Z"
    }
   },
   "source": [
    "data = data.drop(columns=[\"Name\", \"SibSp\", \"Parch\", \"Ticket\", \"FamilySize\", \"Family\", \"FamilySurvivalRate\", \"TicketSurvivalRate\", \"FamilySurvivalRateNA\", \"TicketSurvivalRateNA\"])"
   ],
   "outputs": [],
   "execution_count": 29
  },
  {
   "cell_type": "code",
   "id": "269c9014-c134-4106-b8c4-a971c996bbc8",
   "metadata": {
    "ExecuteTime": {
     "end_time": "2025-01-18T19:45:58.741327Z",
     "start_time": "2025-01-18T19:45:58.738767Z"
    }
   },
   "source": [
    "ord_features = [\"Pclass\", \"Age\", \"Fare\"]\n",
    "cat_features = [\"Sex\", \"Deck\", \"Embarked\", \"Title\", \"FamilySizeGroup\"]"
   ],
   "outputs": [],
   "execution_count": 30
  },
  {
   "cell_type": "code",
   "id": "d6c144e3-0f25-4978-84d0-38c1571abbf9",
   "metadata": {
    "ExecuteTime": {
     "end_time": "2025-01-18T19:45:58.791706Z",
     "start_time": "2025-01-18T19:45:58.788807Z"
    }
   },
   "source": [
    "d = data.copy()\n",
    "\n",
    "#for feature in nonnumeric_features:\n",
    "#    d[feature] = LabelEncoder().fit_transform(d[feature])"
   ],
   "outputs": [],
   "execution_count": 31
  },
  {
   "cell_type": "code",
   "id": "9ea2e80b-d6bc-48bc-8942-934e4ff2d0eb",
   "metadata": {
    "ExecuteTime": {
     "end_time": "2025-01-18T19:45:58.841726Z",
     "start_time": "2025-01-18T19:45:58.838761Z"
    }
   },
   "source": [
    "encoder = ColumnTransformer(\n",
    "    [\n",
    "        (\"ordinal\", OrdinalEncoder(), ord_features),\n",
    "        (\"onehot\", OneHotEncoder(handle_unknown=\"warn\"), cat_features),\n",
    "    ],\n",
    "    remainder=\"passthrough\",\n",
    "    verbose_feature_names_out=False,\n",
    ")\n",
    "\n",
    "pipe = Pipeline([\n",
    "    (\"encoding\", encoder),\n",
    "    (\"scaling\", StandardScaler()),\n",
    "])"
   ],
   "outputs": [],
   "execution_count": 32
  },
  {
   "cell_type": "code",
   "id": "4bae8d4e-3e54-4c97-8a0c-8f0501df99c6",
   "metadata": {
    "ExecuteTime": {
     "end_time": "2025-01-18T19:45:58.904981Z",
     "start_time": "2025-01-18T19:45:58.888960Z"
    }
   },
   "source": [
    "train_trans = pipe.fit_transform(d.loc[\"train\"].drop(columns=\"Survived\"))"
   ],
   "outputs": [],
   "execution_count": 33
  },
  {
   "cell_type": "code",
   "id": "812554cd-afc8-4e00-8aff-5c4c0e1c815b",
   "metadata": {
    "ExecuteTime": {
     "end_time": "2025-01-18T19:45:58.957902Z",
     "start_time": "2025-01-18T19:45:58.948911Z"
    }
   },
   "source": [
    "test_trans = pipe.transform(d.loc[\"test\"])"
   ],
   "outputs": [],
   "execution_count": 34
  },
  {
   "cell_type": "code",
   "id": "bc6a1593-31da-4fc3-9d03-e28a18e63942",
   "metadata": {
    "ExecuteTime": {
     "end_time": "2025-01-18T19:45:59.001402Z",
     "start_time": "2025-01-18T19:45:58.998679Z"
    }
   },
   "source": [
    "colnames = pipe.get_feature_names_out()"
   ],
   "outputs": [],
   "execution_count": 35
  },
  {
   "cell_type": "code",
   "id": "fa69d089-b5c6-4fc9-a5e9-718f661decb0",
   "metadata": {
    "ExecuteTime": {
     "end_time": "2025-01-18T19:45:59.060551Z",
     "start_time": "2025-01-18T19:45:59.058692Z"
    }
   },
   "source": [],
   "outputs": [],
   "execution_count": null
  },
  {
   "cell_type": "code",
   "id": "5eb18129-e816-4cd8-a21f-a264aac0218d",
   "metadata": {
    "ExecuteTime": {
     "end_time": "2025-01-18T19:45:59.111507Z",
     "start_time": "2025-01-18T19:45:59.108605Z"
    }
   },
   "source": [
    "X_train = pd.DataFrame(train_trans, columns=colnames, index=d.loc[\"train\"].index)"
   ],
   "outputs": [],
   "execution_count": 36
  },
  {
   "cell_type": "code",
   "id": "8429f1be-a07d-43da-bf45-6e7ec894a258",
   "metadata": {
    "ExecuteTime": {
     "end_time": "2025-01-18T19:45:59.161917Z",
     "start_time": "2025-01-18T19:45:59.158755Z"
    }
   },
   "source": [
    "X_test = pd.DataFrame(test_trans, columns=colnames, index=d.loc[\"test\"].index)"
   ],
   "outputs": [],
   "execution_count": 37
  },
  {
   "cell_type": "code",
   "id": "bc993952-062d-474d-9197-0f28b2efe29e",
   "metadata": {
    "ExecuteTime": {
     "end_time": "2025-01-18T19:45:59.211630Z",
     "start_time": "2025-01-18T19:45:59.208734Z"
    }
   },
   "source": [
    "y_train = d.loc[\"train\", \"Survived\"]"
   ],
   "outputs": [],
   "execution_count": 38
  },
  {
   "cell_type": "code",
   "id": "6c7457e3-6f74-4a1e-9bce-a88ec4f51fe7",
   "metadata": {
    "ExecuteTime": {
     "end_time": "2025-01-18T19:45:59.282078Z",
     "start_time": "2025-01-18T19:45:59.268690Z"
    }
   },
   "source": [
    "X_train"
   ],
   "outputs": [
    {
     "data": {
      "text/plain": [
       "               Pclass       Age      Fare  Sex_female  Sex_male  Deck_ABC  \\\n",
       "PassengerId                                                                 \n",
       "1            0.827377 -0.790112 -1.556514   -0.737695  0.737695 -0.398306   \n",
       "2           -1.566107  0.939592  1.348169    1.355574 -1.355574  2.510633   \n",
       "3            0.827377 -0.098230 -0.764328    1.355574 -1.355574 -0.398306   \n",
       "4           -1.566107  0.939592  1.084107    1.355574 -1.355574  2.510633   \n",
       "5            0.827377  0.939592 -0.764328   -0.737695  0.737695 -0.398306   \n",
       "...               ...       ...       ...         ...       ...       ...   \n",
       "887         -0.369365  0.247711 -0.236204   -0.737695  0.737695 -0.398306   \n",
       "888         -1.566107 -1.136053  0.820045    1.355574 -1.355574  2.510633   \n",
       "889          0.827377 -0.790112  0.555983    1.355574 -1.355574 -0.398306   \n",
       "890         -1.566107 -0.098230  0.820045   -0.737695  0.737695  2.510633   \n",
       "891          0.827377  0.593652 -1.292452   -0.737695  0.737695 -0.398306   \n",
       "\n",
       "              Deck_DE   Deck_FG    Deck_M  Embarked_C  ...  Title_Mr  \\\n",
       "PassengerId                                            ...             \n",
       "1           -0.280522 -0.139466  0.544925   -0.482043  ...  0.850532   \n",
       "2           -0.280522 -0.139466 -1.835115    2.074505  ... -1.175735   \n",
       "3           -0.280522 -0.139466  0.544925   -0.482043  ... -1.175735   \n",
       "4           -0.280522 -0.139466 -1.835115   -0.482043  ... -1.175735   \n",
       "5           -0.280522 -0.139466  0.544925   -0.482043  ...  0.850532   \n",
       "...               ...       ...       ...         ...  ...       ...   \n",
       "887         -0.280522 -0.139466  0.544925   -0.482043  ... -1.175735   \n",
       "888         -0.280522 -0.139466 -1.835115   -0.482043  ... -1.175735   \n",
       "889         -0.280522 -0.139466  0.544925   -0.482043  ... -1.175735   \n",
       "890         -0.280522 -0.139466 -1.835115    2.074505  ...  0.850532   \n",
       "891         -0.280522 -0.139466  0.544925   -0.482043  ...  0.850532   \n",
       "\n",
       "             Title_Mrs/Ms/Miss  FamilySizeGroup_Alone  FamilySizeGroup_Large  \\\n",
       "PassengerId                                                                    \n",
       "1                    -0.735882              -1.231645              -0.169907   \n",
       "2                     1.358913              -1.231645              -0.169907   \n",
       "3                     1.358913               0.811922              -0.169907   \n",
       "4                     1.358913              -1.231645              -0.169907   \n",
       "5                    -0.735882               0.811922              -0.169907   \n",
       "...                        ...                    ...                    ...   \n",
       "887                  -0.735882               0.811922              -0.169907   \n",
       "888                   1.358913               0.811922              -0.169907   \n",
       "889                   1.358913              -1.231645              -0.169907   \n",
       "890                  -0.735882               0.811922              -0.169907   \n",
       "891                  -0.735882               0.811922              -0.169907   \n",
       "\n",
       "             FamilySizeGroup_Medium  FamilySizeGroup_Small  TicketFrequency  \\\n",
       "PassengerId                                                                   \n",
       "1                         -0.208148               1.432260        -0.624404   \n",
       "2                         -0.208148               1.432260        -0.067503   \n",
       "3                         -0.208148              -0.698197        -0.624404   \n",
       "4                         -0.208148               1.432260        -0.067503   \n",
       "5                         -0.208148              -0.698197        -0.624404   \n",
       "...                             ...                    ...              ...   \n",
       "887                       -0.208148              -0.698197        -0.624404   \n",
       "888                       -0.208148              -0.698197        -0.624404   \n",
       "889                       -0.208148               1.432260         1.046299   \n",
       "890                       -0.208148              -0.698197        -0.624404   \n",
       "891                       -0.208148              -0.698197        -0.624404   \n",
       "\n",
       "             IsMarried  SurvivalRate  SurvivalRateNA  \n",
       "PassengerId                                           \n",
       "1            -0.403962     -0.096309       -0.589388  \n",
       "2             2.475480      2.985508        2.016789  \n",
       "3            -0.403962     -0.096309       -0.589388  \n",
       "4             2.475480     -0.096309       -0.589388  \n",
       "5            -0.403962     -0.096309       -0.589388  \n",
       "...                ...           ...             ...  \n",
       "887          -0.403962     -0.096309       -0.589388  \n",
       "888          -0.403962     -0.096309       -0.589388  \n",
       "889          -0.403962     -2.016129        2.016789  \n",
       "890          -0.403962     -0.096309       -0.589388  \n",
       "891          -0.403962     -0.096309       -0.589388  \n",
       "\n",
       "[891 rows x 24 columns]"
      ],
      "text/html": [
       "<div>\n",
       "<style scoped>\n",
       "    .dataframe tbody tr th:only-of-type {\n",
       "        vertical-align: middle;\n",
       "    }\n",
       "\n",
       "    .dataframe tbody tr th {\n",
       "        vertical-align: top;\n",
       "    }\n",
       "\n",
       "    .dataframe thead th {\n",
       "        text-align: right;\n",
       "    }\n",
       "</style>\n",
       "<table border=\"1\" class=\"dataframe\">\n",
       "  <thead>\n",
       "    <tr style=\"text-align: right;\">\n",
       "      <th></th>\n",
       "      <th>Pclass</th>\n",
       "      <th>Age</th>\n",
       "      <th>Fare</th>\n",
       "      <th>Sex_female</th>\n",
       "      <th>Sex_male</th>\n",
       "      <th>Deck_ABC</th>\n",
       "      <th>Deck_DE</th>\n",
       "      <th>Deck_FG</th>\n",
       "      <th>Deck_M</th>\n",
       "      <th>Embarked_C</th>\n",
       "      <th>...</th>\n",
       "      <th>Title_Mr</th>\n",
       "      <th>Title_Mrs/Ms/Miss</th>\n",
       "      <th>FamilySizeGroup_Alone</th>\n",
       "      <th>FamilySizeGroup_Large</th>\n",
       "      <th>FamilySizeGroup_Medium</th>\n",
       "      <th>FamilySizeGroup_Small</th>\n",
       "      <th>TicketFrequency</th>\n",
       "      <th>IsMarried</th>\n",
       "      <th>SurvivalRate</th>\n",
       "      <th>SurvivalRateNA</th>\n",
       "    </tr>\n",
       "    <tr>\n",
       "      <th>PassengerId</th>\n",
       "      <th></th>\n",
       "      <th></th>\n",
       "      <th></th>\n",
       "      <th></th>\n",
       "      <th></th>\n",
       "      <th></th>\n",
       "      <th></th>\n",
       "      <th></th>\n",
       "      <th></th>\n",
       "      <th></th>\n",
       "      <th></th>\n",
       "      <th></th>\n",
       "      <th></th>\n",
       "      <th></th>\n",
       "      <th></th>\n",
       "      <th></th>\n",
       "      <th></th>\n",
       "      <th></th>\n",
       "      <th></th>\n",
       "      <th></th>\n",
       "      <th></th>\n",
       "    </tr>\n",
       "  </thead>\n",
       "  <tbody>\n",
       "    <tr>\n",
       "      <th>1</th>\n",
       "      <td>0.827377</td>\n",
       "      <td>-0.790112</td>\n",
       "      <td>-1.556514</td>\n",
       "      <td>-0.737695</td>\n",
       "      <td>0.737695</td>\n",
       "      <td>-0.398306</td>\n",
       "      <td>-0.280522</td>\n",
       "      <td>-0.139466</td>\n",
       "      <td>0.544925</td>\n",
       "      <td>-0.482043</td>\n",
       "      <td>...</td>\n",
       "      <td>0.850532</td>\n",
       "      <td>-0.735882</td>\n",
       "      <td>-1.231645</td>\n",
       "      <td>-0.169907</td>\n",
       "      <td>-0.208148</td>\n",
       "      <td>1.432260</td>\n",
       "      <td>-0.624404</td>\n",
       "      <td>-0.403962</td>\n",
       "      <td>-0.096309</td>\n",
       "      <td>-0.589388</td>\n",
       "    </tr>\n",
       "    <tr>\n",
       "      <th>2</th>\n",
       "      <td>-1.566107</td>\n",
       "      <td>0.939592</td>\n",
       "      <td>1.348169</td>\n",
       "      <td>1.355574</td>\n",
       "      <td>-1.355574</td>\n",
       "      <td>2.510633</td>\n",
       "      <td>-0.280522</td>\n",
       "      <td>-0.139466</td>\n",
       "      <td>-1.835115</td>\n",
       "      <td>2.074505</td>\n",
       "      <td>...</td>\n",
       "      <td>-1.175735</td>\n",
       "      <td>1.358913</td>\n",
       "      <td>-1.231645</td>\n",
       "      <td>-0.169907</td>\n",
       "      <td>-0.208148</td>\n",
       "      <td>1.432260</td>\n",
       "      <td>-0.067503</td>\n",
       "      <td>2.475480</td>\n",
       "      <td>2.985508</td>\n",
       "      <td>2.016789</td>\n",
       "    </tr>\n",
       "    <tr>\n",
       "      <th>3</th>\n",
       "      <td>0.827377</td>\n",
       "      <td>-0.098230</td>\n",
       "      <td>-0.764328</td>\n",
       "      <td>1.355574</td>\n",
       "      <td>-1.355574</td>\n",
       "      <td>-0.398306</td>\n",
       "      <td>-0.280522</td>\n",
       "      <td>-0.139466</td>\n",
       "      <td>0.544925</td>\n",
       "      <td>-0.482043</td>\n",
       "      <td>...</td>\n",
       "      <td>-1.175735</td>\n",
       "      <td>1.358913</td>\n",
       "      <td>0.811922</td>\n",
       "      <td>-0.169907</td>\n",
       "      <td>-0.208148</td>\n",
       "      <td>-0.698197</td>\n",
       "      <td>-0.624404</td>\n",
       "      <td>-0.403962</td>\n",
       "      <td>-0.096309</td>\n",
       "      <td>-0.589388</td>\n",
       "    </tr>\n",
       "    <tr>\n",
       "      <th>4</th>\n",
       "      <td>-1.566107</td>\n",
       "      <td>0.939592</td>\n",
       "      <td>1.084107</td>\n",
       "      <td>1.355574</td>\n",
       "      <td>-1.355574</td>\n",
       "      <td>2.510633</td>\n",
       "      <td>-0.280522</td>\n",
       "      <td>-0.139466</td>\n",
       "      <td>-1.835115</td>\n",
       "      <td>-0.482043</td>\n",
       "      <td>...</td>\n",
       "      <td>-1.175735</td>\n",
       "      <td>1.358913</td>\n",
       "      <td>-1.231645</td>\n",
       "      <td>-0.169907</td>\n",
       "      <td>-0.208148</td>\n",
       "      <td>1.432260</td>\n",
       "      <td>-0.067503</td>\n",
       "      <td>2.475480</td>\n",
       "      <td>-0.096309</td>\n",
       "      <td>-0.589388</td>\n",
       "    </tr>\n",
       "    <tr>\n",
       "      <th>5</th>\n",
       "      <td>0.827377</td>\n",
       "      <td>0.939592</td>\n",
       "      <td>-0.764328</td>\n",
       "      <td>-0.737695</td>\n",
       "      <td>0.737695</td>\n",
       "      <td>-0.398306</td>\n",
       "      <td>-0.280522</td>\n",
       "      <td>-0.139466</td>\n",
       "      <td>0.544925</td>\n",
       "      <td>-0.482043</td>\n",
       "      <td>...</td>\n",
       "      <td>0.850532</td>\n",
       "      <td>-0.735882</td>\n",
       "      <td>0.811922</td>\n",
       "      <td>-0.169907</td>\n",
       "      <td>-0.208148</td>\n",
       "      <td>-0.698197</td>\n",
       "      <td>-0.624404</td>\n",
       "      <td>-0.403962</td>\n",
       "      <td>-0.096309</td>\n",
       "      <td>-0.589388</td>\n",
       "    </tr>\n",
       "    <tr>\n",
       "      <th>...</th>\n",
       "      <td>...</td>\n",
       "      <td>...</td>\n",
       "      <td>...</td>\n",
       "      <td>...</td>\n",
       "      <td>...</td>\n",
       "      <td>...</td>\n",
       "      <td>...</td>\n",
       "      <td>...</td>\n",
       "      <td>...</td>\n",
       "      <td>...</td>\n",
       "      <td>...</td>\n",
       "      <td>...</td>\n",
       "      <td>...</td>\n",
       "      <td>...</td>\n",
       "      <td>...</td>\n",
       "      <td>...</td>\n",
       "      <td>...</td>\n",
       "      <td>...</td>\n",
       "      <td>...</td>\n",
       "      <td>...</td>\n",
       "      <td>...</td>\n",
       "    </tr>\n",
       "    <tr>\n",
       "      <th>887</th>\n",
       "      <td>-0.369365</td>\n",
       "      <td>0.247711</td>\n",
       "      <td>-0.236204</td>\n",
       "      <td>-0.737695</td>\n",
       "      <td>0.737695</td>\n",
       "      <td>-0.398306</td>\n",
       "      <td>-0.280522</td>\n",
       "      <td>-0.139466</td>\n",
       "      <td>0.544925</td>\n",
       "      <td>-0.482043</td>\n",
       "      <td>...</td>\n",
       "      <td>-1.175735</td>\n",
       "      <td>-0.735882</td>\n",
       "      <td>0.811922</td>\n",
       "      <td>-0.169907</td>\n",
       "      <td>-0.208148</td>\n",
       "      <td>-0.698197</td>\n",
       "      <td>-0.624404</td>\n",
       "      <td>-0.403962</td>\n",
       "      <td>-0.096309</td>\n",
       "      <td>-0.589388</td>\n",
       "    </tr>\n",
       "    <tr>\n",
       "      <th>888</th>\n",
       "      <td>-1.566107</td>\n",
       "      <td>-1.136053</td>\n",
       "      <td>0.820045</td>\n",
       "      <td>1.355574</td>\n",
       "      <td>-1.355574</td>\n",
       "      <td>2.510633</td>\n",
       "      <td>-0.280522</td>\n",
       "      <td>-0.139466</td>\n",
       "      <td>-1.835115</td>\n",
       "      <td>-0.482043</td>\n",
       "      <td>...</td>\n",
       "      <td>-1.175735</td>\n",
       "      <td>1.358913</td>\n",
       "      <td>0.811922</td>\n",
       "      <td>-0.169907</td>\n",
       "      <td>-0.208148</td>\n",
       "      <td>-0.698197</td>\n",
       "      <td>-0.624404</td>\n",
       "      <td>-0.403962</td>\n",
       "      <td>-0.096309</td>\n",
       "      <td>-0.589388</td>\n",
       "    </tr>\n",
       "    <tr>\n",
       "      <th>889</th>\n",
       "      <td>0.827377</td>\n",
       "      <td>-0.790112</td>\n",
       "      <td>0.555983</td>\n",
       "      <td>1.355574</td>\n",
       "      <td>-1.355574</td>\n",
       "      <td>-0.398306</td>\n",
       "      <td>-0.280522</td>\n",
       "      <td>-0.139466</td>\n",
       "      <td>0.544925</td>\n",
       "      <td>-0.482043</td>\n",
       "      <td>...</td>\n",
       "      <td>-1.175735</td>\n",
       "      <td>1.358913</td>\n",
       "      <td>-1.231645</td>\n",
       "      <td>-0.169907</td>\n",
       "      <td>-0.208148</td>\n",
       "      <td>1.432260</td>\n",
       "      <td>1.046299</td>\n",
       "      <td>-0.403962</td>\n",
       "      <td>-2.016129</td>\n",
       "      <td>2.016789</td>\n",
       "    </tr>\n",
       "    <tr>\n",
       "      <th>890</th>\n",
       "      <td>-1.566107</td>\n",
       "      <td>-0.098230</td>\n",
       "      <td>0.820045</td>\n",
       "      <td>-0.737695</td>\n",
       "      <td>0.737695</td>\n",
       "      <td>2.510633</td>\n",
       "      <td>-0.280522</td>\n",
       "      <td>-0.139466</td>\n",
       "      <td>-1.835115</td>\n",
       "      <td>2.074505</td>\n",
       "      <td>...</td>\n",
       "      <td>0.850532</td>\n",
       "      <td>-0.735882</td>\n",
       "      <td>0.811922</td>\n",
       "      <td>-0.169907</td>\n",
       "      <td>-0.208148</td>\n",
       "      <td>-0.698197</td>\n",
       "      <td>-0.624404</td>\n",
       "      <td>-0.403962</td>\n",
       "      <td>-0.096309</td>\n",
       "      <td>-0.589388</td>\n",
       "    </tr>\n",
       "    <tr>\n",
       "      <th>891</th>\n",
       "      <td>0.827377</td>\n",
       "      <td>0.593652</td>\n",
       "      <td>-1.292452</td>\n",
       "      <td>-0.737695</td>\n",
       "      <td>0.737695</td>\n",
       "      <td>-0.398306</td>\n",
       "      <td>-0.280522</td>\n",
       "      <td>-0.139466</td>\n",
       "      <td>0.544925</td>\n",
       "      <td>-0.482043</td>\n",
       "      <td>...</td>\n",
       "      <td>0.850532</td>\n",
       "      <td>-0.735882</td>\n",
       "      <td>0.811922</td>\n",
       "      <td>-0.169907</td>\n",
       "      <td>-0.208148</td>\n",
       "      <td>-0.698197</td>\n",
       "      <td>-0.624404</td>\n",
       "      <td>-0.403962</td>\n",
       "      <td>-0.096309</td>\n",
       "      <td>-0.589388</td>\n",
       "    </tr>\n",
       "  </tbody>\n",
       "</table>\n",
       "<p>891 rows × 24 columns</p>\n",
       "</div>"
      ]
     },
     "execution_count": 39,
     "metadata": {},
     "output_type": "execute_result"
    }
   ],
   "execution_count": 39
  },
  {
   "cell_type": "code",
   "id": "5316c7f9-d126-454b-b176-b7b5dadf2da9",
   "metadata": {
    "ExecuteTime": {
     "end_time": "2025-01-18T19:45:59.340882Z",
     "start_time": "2025-01-18T19:45:59.337488Z"
    }
   },
   "source": [
    "colnames"
   ],
   "outputs": [
    {
     "data": {
      "text/plain": [
       "array(['Pclass', 'Age', 'Fare', 'Sex_female', 'Sex_male', 'Deck_ABC',\n",
       "       'Deck_DE', 'Deck_FG', 'Deck_M', 'Embarked_C', 'Embarked_Q',\n",
       "       'Embarked_S', 'Title_Dr/Military/Noble/Clergy', 'Title_Master',\n",
       "       'Title_Mr', 'Title_Mrs/Ms/Miss', 'FamilySizeGroup_Alone',\n",
       "       'FamilySizeGroup_Large', 'FamilySizeGroup_Medium',\n",
       "       'FamilySizeGroup_Small', 'TicketFrequency', 'IsMarried',\n",
       "       'SurvivalRate', 'SurvivalRateNA'], dtype=object)"
      ]
     },
     "execution_count": 40,
     "metadata": {},
     "output_type": "execute_result"
    }
   ],
   "execution_count": 40
  },
  {
   "cell_type": "code",
   "id": "efe9d7b4-8ea5-4129-838a-2bbc8717fffe",
   "metadata": {
    "ExecuteTime": {
     "end_time": "2025-01-18T19:45:59.383153Z",
     "start_time": "2025-01-18T19:45:59.379661Z"
    }
   },
   "source": [
    "len(colnames)"
   ],
   "outputs": [
    {
     "data": {
      "text/plain": [
       "24"
      ]
     },
     "execution_count": 41,
     "metadata": {},
     "output_type": "execute_result"
    }
   ],
   "execution_count": 41
  },
  {
   "cell_type": "code",
   "id": "32d86808-2169-4123-80f2-10ed1778d25d",
   "metadata": {
    "ExecuteTime": {
     "end_time": "2025-01-18T19:45:59.432604Z",
     "start_time": "2025-01-18T19:45:59.429773Z"
    }
   },
   "source": [
    "model = RandomForestClassifier(\n",
    "    criterion='gini', \n",
    "    n_estimators=1750,\n",
    "    max_depth=7,\n",
    "    min_samples_split=6,\n",
    "    min_samples_leaf=6,\n",
    "    max_features='sqrt',\n",
    "    oob_score=True,\n",
    "    random_state=1234,\n",
    "    n_jobs=-1,\n",
    ")"
   ],
   "outputs": [],
   "execution_count": 42
  },
  {
   "cell_type": "code",
   "id": "dd27241b-b330-4a51-9721-6f35d291050a",
   "metadata": {
    "ExecuteTime": {
     "end_time": "2025-01-18T19:46:19.897383Z",
     "start_time": "2025-01-18T19:45:59.478807Z"
    }
   },
   "source": [
    "kfold = StratifiedKFold(n_splits=5, random_state=123, shuffle=True)\n",
    "oob = 0\n",
    "fprs, tprs, scores = [], [], []\n",
    "probs = np.empty([X_test.shape[0], 10])\n",
    "importances = np.empty([X_test.shape[1], 5])\n",
    "\n",
    "for fold, (trn_idx, val_idx) in enumerate(kfold.split(X_train, y_train), 1):\n",
    "    print(\"Fold\", fold)\n",
    "    model.fit(X_train.iloc[trn_idx], y_train.iloc[trn_idx])\n",
    "    \n",
    "    trn_fpr, trn_tpr, trn_thresholds = roc_curve(y_train.iloc[trn_idx], model.predict_proba(X_train.iloc[trn_idx])[:, 1])\n",
    "    trn_auc_score = auc(trn_fpr, trn_tpr)\n",
    "\n",
    "    val_fpr, val_tpr, val_thresholds = roc_curve(y_train.iloc[val_idx], model.predict_proba(X_train.iloc[val_idx])[:, 1])\n",
    "    val_auc_score = auc(val_fpr, val_tpr)\n",
    "\n",
    "    scores.append((trn_auc_score, val_auc_score))\n",
    "    fprs.append(val_fpr)\n",
    "    tprs.append(val_tpr)\n",
    "\n",
    "    probs[:, [(fold-1)*2, (fold-1)*2+1]] = model.predict_proba(X_test)\n",
    "    importances[:, fold-1] = model.feature_importances_\n",
    "    \n",
    "    print(f\"Fold {fold} OOB score: {model.oob_score_:.4f}\")\n",
    "    oob += model.oob_score_ / 5\n",
    "\n",
    "print(\"Average OOB score:\", oob)"
   ],
   "outputs": [
    {
     "name": "stdout",
     "output_type": "stream",
     "text": [
      "Fold 1\n",
      "Fold 1 OOB score: 0.8413\n",
      "Fold 2\n",
      "Fold 2 OOB score: 0.8569\n",
      "Fold 3\n",
      "Fold 3 OOB score: 0.8429\n",
      "Fold 4\n",
      "Fold 4 OOB score: 0.8429\n",
      "Fold 5\n",
      "Fold 5 OOB score: 0.8457\n",
      "Average OOB score: 0.8459582867138378\n"
     ]
    }
   ],
   "execution_count": 43
  },
  {
   "cell_type": "code",
   "id": "edb4ed25-beee-430d-b2cb-ee64e72070e1",
   "metadata": {
    "ExecuteTime": {
     "end_time": "2025-01-18T19:46:19.904662Z",
     "start_time": "2025-01-18T19:46:19.900926Z"
    }
   },
   "source": [
    "imp = pd.DataFrame(importances, index=X_train.columns).stack()\n",
    "imp.index.names = [\"Feature\", \"Fold\"]\n",
    "imp = imp.reset_index(name=\"Importance\")"
   ],
   "outputs": [],
   "execution_count": 44
  },
  {
   "cell_type": "code",
   "id": "5ead6d8a-4386-4f3a-be9a-2a9e48ebc2aa",
   "metadata": {
    "ExecuteTime": {
     "end_time": "2025-01-18T19:46:20.394045Z",
     "start_time": "2025-01-18T19:46:19.958809Z"
    }
   },
   "source": [
    "plt.figure(figsize=(7, 10))\n",
    "sns.barplot(x=\"Importance\", y=\"Feature\", data=imp, order=imp.groupby(\"Feature\")[\"Importance\"].mean().sort_values(ascending=False).index)\n",
    "plt.xlabel(\"\")\n",
    "plt.title('Random Forest Classifier Mean Feature Importance Between Folds', size=15)\n",
    "plt.show()"
   ],
   "outputs": [
    {
     "data": {
      "text/plain": [
       "<Figure size 700x1000 with 1 Axes>"
      ],
      "image/png": "[encoded data removed]"
     },
     "metadata": {},
     "output_type": "display_data"
    }
   ],
   "execution_count": 45
  },
  {
   "cell_type": "code",
   "id": "a439cea6-1ba7-40b7-a482-a00adb0aa6f9",
   "metadata": {
    "ExecuteTime": {
     "end_time": "2025-01-18T19:46:20.586783Z",
     "start_time": "2025-01-18T19:46:20.397473Z"
    }
   },
   "source": [
    "def plot_roc_curve(fprs, tprs):\n",
    "    \n",
    "    tprs_interp = []\n",
    "    aucs = []\n",
    "    mean_fpr = np.linspace(0, 1, 100)\n",
    "    f, ax = plt.subplots(figsize=(7, 7))\n",
    "    \n",
    "    # Plotting ROC for each fold and computing AUC scores\n",
    "    for i, (fpr, tpr) in enumerate(zip(fprs, tprs), 1):\n",
    "        tprs_interp.append(np.interp(mean_fpr, fpr, tpr))\n",
    "        tprs_interp[-1][0] = 0.0\n",
    "        roc_auc = auc(fpr, tpr)\n",
    "        aucs.append(roc_auc)\n",
    "        ax.plot(fpr, tpr, lw=1, alpha=0.3, label='ROC Fold {} (AUC = {:.3f})'.format(i, roc_auc))\n",
    "        \n",
    "    # Plotting ROC for random guessing\n",
    "    plt.plot([0, 1], [0, 1], linestyle='--', lw=2, color='r', alpha=0.8, label='Random Guessing')\n",
    "    \n",
    "    mean_tpr = np.mean(tprs_interp, axis=0)\n",
    "    mean_tpr[-1] = 1.0\n",
    "    mean_auc = auc(mean_fpr, mean_tpr)\n",
    "    std_auc = np.std(aucs)\n",
    "    \n",
    "    # Plotting the mean ROC\n",
    "    ax.plot(mean_fpr, mean_tpr, color='b', label='Mean ROC (AUC = {:.3f} $\\pm$ {:.3f})'.format(mean_auc, std_auc), lw=2, alpha=0.8)\n",
    "    \n",
    "    # Plotting the standard deviation around the mean ROC Curve\n",
    "    std_tpr = np.std(tprs_interp, axis=0)\n",
    "    tprs_upper = np.minimum(mean_tpr + std_tpr, 1)\n",
    "    tprs_lower = np.maximum(mean_tpr - std_tpr, 0)\n",
    "    ax.fill_between(mean_fpr, tprs_lower, tprs_upper, color='grey', alpha=.2, label='$\\pm$ 1 std. dev.')\n",
    "    \n",
    "    ax.set_xlabel('False Positive Rate', size=12, labelpad=20)\n",
    "    ax.set_ylabel('True Positive Rate', size=12, labelpad=20)\n",
    "    ax.tick_params(axis='x', labelsize=12)\n",
    "    ax.tick_params(axis='y', labelsize=12)\n",
    "    ax.set_xlim([-0.05, 1.05])\n",
    "    ax.set_ylim([-0.05, 1.05])\n",
    "\n",
    "    ax.set_title('ROC Curves of Folds', size=20, y=1.02)\n",
    "    ax.legend(loc='lower right', prop={'size': 10})\n",
    "    \n",
    "    plt.show()\n",
    "\n",
    "plot_roc_curve(fprs, tprs)"
   ],
   "outputs": [
    {
     "data": {
      "text/plain": [
       "<Figure size 700x700 with 1 Axes>"
      ],
      "image/png": "[encoded data removed]"
     },
     "metadata": {},
     "output_type": "display_data"
    }
   ],
   "execution_count": 46
  },
  {
   "cell_type": "code",
   "id": "406f3839-8ba3-4023-8112-807fb435494d",
   "metadata": {
    "ExecuteTime": {
     "end_time": "2025-01-18T19:46:20.591979Z",
     "start_time": "2025-01-18T19:46:20.589468Z"
    }
   },
   "source": [
    "p_survival = probs[:, range(1, 10, 2)].mean(axis=1)"
   ],
   "outputs": [],
   "execution_count": 47
  },
  {
   "cell_type": "code",
   "id": "656018f3-3382-4edf-82df-1c013bab5961",
   "metadata": {
    "ExecuteTime": {
     "end_time": "2025-01-18T19:46:20.641378Z",
     "start_time": "2025-01-18T19:46:20.638760Z"
    }
   },
   "source": [
    "prediction = (p_survival >= 0.5).astype(int)"
   ],
   "outputs": [],
   "execution_count": 48
  },
  {
   "cell_type": "code",
   "id": "746f1722-56e4-47a6-a0ba-bb1d41b5932e",
   "metadata": {
    "ExecuteTime": {
     "end_time": "2025-01-18T19:46:20.693944Z",
     "start_time": "2025-01-18T19:46:20.688675Z"
    }
   },
   "source": [
    "pd.DataFrame({\"Survived\": prediction}, index=X_test.index).to_csv(\"submission.csv\")"
   ],
   "outputs": [],
   "execution_count": 49
  },
  {
   "cell_type": "code",
   "id": "66db7ffd-11df-449b-b21f-a9d96f34d543",
   "metadata": {
    "ExecuteTime": {
     "end_time": "2025-01-18T19:46:20.740567Z",
     "start_time": "2025-01-18T19:46:20.738621Z"
    }
   },
   "source": [],
   "outputs": [],
   "execution_count": null
  }
 ],
 "metadata": {
  "kernelspec": {
   "display_name": "/home/john/projects/titanic",
   "language": "python",
   "name": "titanic"
  },
  "language_info": {
   "codemirror_mode": {
    "name": "ipython",
    "version": 3
   },
   "file_extension": ".py",
   "mimetype": "text/x-python",
   "name": "python",
   "nbconvert_exporter": "python",
   "pygments_lexer": "ipython3",
   "version": "3.11.3"
  }
 },
 "nbformat": 4,
 "nbformat_minor": 5
}
